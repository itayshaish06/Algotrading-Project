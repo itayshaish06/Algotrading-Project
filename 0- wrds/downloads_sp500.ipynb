{
 "cells": [
  {
   "cell_type": "code",
   "execution_count": null,
   "id": "911db321-31cd-4e62-b4e3-436c0bd5593d",
   "metadata": {
    "tags": []
   },
   "outputs": [],
   "source": [
    "import wrds\n",
    "import pandas as pd\n",
    "import numpy as np\n",
    "from typing import List\n",
    "import os\n",
    "\n",
    "conn = wrds.Connection()"
   ]
  },
  {
   "cell_type": "code",
   "execution_count": 2,
   "id": "9e694f6e-c712-4e45-9b91-01225736aafe",
   "metadata": {},
   "outputs": [],
   "source": [
    "def get_stock_data(symbol: str, start_date: str, end_date: str) -> pd.DataFrame:\n",
    "    \"\"\"\n",
    "    Fetches stock data for a given symbol within a specified date range\n",
    "    from WRDS CRSP database.\n",
    "\n",
    "    Args:\n",
    "        symbol (str): Ticker symbol of the stock.\n",
    "        start_date (str): Start date in 'YYYY-MM-DD' format.\n",
    "        end_date (str): End date in 'YYYY-MM-DD' format.\n",
    "        conn (wrds.Connection): Connection object to WRDS database.\n",
    "\n",
    "    Returns:\n",
    "        pd.DataFrame: DataFrame containing the fetched stock data.\n",
    "    \"\"\"\n",
    "    query = f\"\"\"SELECT c.date AS Date,\n",
    "                        c.permco AS company_code,\n",
    "                        c.permno AS security_code,\n",
    "                        c.openprc AS Open, \n",
    "                        c.askhi AS High,\n",
    "                        c.bidlo AS Low, \n",
    "                        c.prc AS Close, \n",
    "                        c.vol AS Volume,\n",
    "                        c.cfacpr AS splits_adjustment_factor,\n",
    "                        c.ret AS adjusted_returns,\n",
    "                        c.retx AS returns_without_dividends,\n",
    "                        i.ticker AS symbol,\n",
    "                        i.uesindustry AS industry,\n",
    "                        d.divamt AS dividend_amount\n",
    "                    FROM crsp.dsf c\n",
    "                        JOIN crsp.stksecurityinfohdr i ON c.permno = i.permno\n",
    "                        LEFT JOIN crsp.dse d ON c.permno = d.permno AND c.date = d.date\n",
    "                    WHERE c.date >= '{start_date}'\n",
    "                        AND c.date <= '{end_date}'\n",
    "                        AND i.ticker = '{symbol}'\n",
    "                \"\"\"\n",
    "    return conn.raw_sql(query, date_cols=['Date'])"
   ]
  },
  {
   "cell_type": "code",
   "execution_count": 3,
   "id": "983bbb3d-8a2e-438e-80f9-ac3caceb66a1",
   "metadata": {
    "tags": []
   },
   "outputs": [],
   "source": [
    "\n",
    "def process_stock_data(symbol: str, start_date: str, end_date: str = None, fix_price: bool = False):\n",
    "    \"\"\"\n",
    "    Process stock data for a given symbol.\n",
    "\n",
    "    Args:\n",
    "        symbol (str): Ticker symbol of the stock.\n",
    "        start_date (str): Start date in 'YYYY-MM-DD' format.\n",
    "        end_date (str): End date in 'YYYY-MM-DD' format. Defaults to None.\n",
    "    \"\"\"\n",
    "    stock_data = get_stock_data(symbol=symbol, start_date=start_date, end_date=pd.Timestamp.today().strftime('%Y-%m-%d') if end_date is None else end_date)\n",
    "    try:\n",
    "        start_date = stock_data.iloc[0]['date']\n",
    "        end_date = stock_data.iloc[-1]['date']\n",
    "    except Exception as e:\n",
    "        print(f'{symbol}: {e}')\n",
    "        return \n",
    "    exported_file_name = f'stocks_data/{symbol}_from_{start_date}_to_{end_date}' if end_date is not None else f'stocks_data/{symbol}_from_{start_date}'\n",
    "    \n",
    "    stock_data['date'] = pd.to_datetime(stock_data['date'])\n",
    "    stock_data['symbol'] = stock_data['symbol'].astype(str)\n",
    "    stock_data['industry'] = stock_data['industry'].astype(str)\n",
    "    \n",
    "    stock_data.columns = stock_data.columns.str.lower()\n",
    "        \n",
    "    stock_data.to_pickle(f'{exported_file_name}.pickle')\n",
    "    stock_data.to_csv(f'{exported_file_name}.csv')"
   ]
  },
  {
   "cell_type": "code",
   "execution_count": 4,
   "id": "523c1f0a-b8fc-4ba8-8d29-670ac74427ba",
   "metadata": {},
   "outputs": [],
   "source": [
    "def read_symbols_from_file(file_path: str) -> List[str]:\n",
    "    \"\"\"\n",
    "    Reads stock symbols from a file.\n",
    "\n",
    "    Returns:\n",
    "        List[str]: List of stock symbols.\n",
    "    \"\"\"\n",
    "    with open(file_path, 'r') as file:\n",
    "        symbols = file.read().splitlines()\n",
    "    return symbols"
   ]
  },
  {
   "cell_type": "code",
   "execution_count": null,
   "id": "08c8ab9c-0f66-4d4d-b11b-7e1abe6ae638",
   "metadata": {
    "tags": []
   },
   "outputs": [],
   "source": [
    "# Main execution\n",
    "symbols = read_symbols_from_file('sp500.txt')\n",
    "start_time = '2005-01-01'\n",
    "end_time = '2024-06-18'\n",
    "\n",
    "for symbol in symbols:\n",
    "    process_stock_data(symbol, start_time, end_time, fix_price = False)\n",
    "    print(f'{symbol} passed')"
   ]
  },
  {
   "cell_type": "code",
   "execution_count": null,
   "id": "625ce81a",
   "metadata": {},
   "outputs": [],
   "source": [
    "import os\n",
    "import zipfile\n",
    "\n",
    "def zip_folder(folder_path, output_path):\n",
    "    with zipfile.ZipFile(output_path, 'w', zipfile.ZIP_DEFLATED) as zipf:\n",
    "        for root, dirs, files in os.walk(folder_path):\n",
    "            for file in files:\n",
    "                file_path = os.path.join(root, file)\n",
    "                arcname = os.path.relpath(file_path, start=folder_path)\n",
    "                zipf.write(file_path, arcname)\n",
    "\n",
    "# Specify the folder to be zipped and the output zip file\n",
    "folder_to_zip = 'stocks_data'\n",
    "output_zip_file = 'stocks_data.zip'\n",
    "\n",
    "# Zip the folder\n",
    "zip_folder(folder_to_zip, output_zip_file)\n",
    "\n",
    "print(f'Folder {folder_to_zip} has been zipped into {output_zip_file}')\n"
   ]
  }
 ],
 "metadata": {
  "kernelspec": {
   "display_name": "Python 3 (ipykernel)",
   "language": "python",
   "name": "python3"
  },
  "language_info": {
   "codemirror_mode": {
    "name": "ipython",
    "version": 3
   },
   "file_extension": ".py",
   "mimetype": "text/x-python",
   "name": "python",
   "nbconvert_exporter": "python",
   "pygments_lexer": "ipython3",
   "version": "3.11.9"
  }
 },
 "nbformat": 4,
 "nbformat_minor": 5
}
