{
 "cells": [
  {
   "cell_type": "code",
   "execution_count": 4,
   "metadata": {},
   "outputs": [],
   "source": [
    "# https://github.com/ranaroussi/yfinance/wiki\n",
    "import yfinance as yf\n",
    "import pandas as pd\n",
    "import numpy as np\n",
    "import os"
   ]
  },
  {
   "cell_type": "code",
   "execution_count": 5,
   "metadata": {},
   "outputs": [],
   "source": [
    "# open sp500.txt file\n",
    "with open('sp500.txt', 'r') as f:\n",
    "    symbols = f.read().splitlines()"
   ]
  },
  {
   "cell_type": "code",
   "execution_count": null,
   "metadata": {},
   "outputs": [],
   "source": [
    "count = 1\n",
    "start = '2000-01-01'\n",
    "end = '2024-06-16'\n",
    "df = pd.DataFrame()\n",
    "for symbol in symbols:\n",
    "    df = yf.download(symbol, start=start, end=end)\n",
    "    df.drop_duplicates(inplace=True)\n",
    "\n",
    "    df.reset_index(inplace=True) # yahoo finance data has date as index, after reset_index, Date is a column\n",
    "    df.columns = df.columns.str.lower() # make 'Date' to 'date'\n",
    "    df = df.sort_values(by='date')\n",
    "    df.reset_index(inplace=True, drop=True) # if rows was swapped, reset index\n",
    "\n",
    "\n",
    "    df.rename(columns={'adj close':'adj_close'}, inplace=True)\n",
    "    df = df[['date', 'open', 'high', 'low', 'close', 'volume', 'adj_close']]\n",
    "\n",
    "    adj_open = df['open'] * df['adj_close'] / df['close']\n",
    "    df.insert(6, 'adj_open', adj_open)\n",
    "    adj_high = df['high'] * df['adj_close'] / df['close']\n",
    "    df.insert(7, 'adj_high', adj_high)\n",
    "    adj_low = df['low'] * df['adj_close'] / df['close']\n",
    "    df.insert(8, 'adj_low', adj_low)\n",
    "\n",
    "    #save 1st table to pickle and excel\n",
    "    df_cp = df.copy()\n",
    "    df_cp.to_pickle(f'{symbol}_from_{start}_yfinance.pickle')\n",
    "    df_cp.loc[:,'date'] = df_cp['date'].astype(str)\n",
    "    df_cp.to_excel(f'{symbol}_from_{start}_yfinance.xlsx')\n",
    "\n",
    "\n",
    "    keep_colunms = ['date', 'adj_open', 'adj_high', 'adj_low', 'adj_close', 'volume']\n",
    "    df = df[keep_colunms]\n",
    "    df.columns = ['date', 'open', 'high', 'low', 'close', 'volume']\n",
    "\n",
    "    df['pct_change'] = df['close'].pct_change()\n",
    "    df['252d_std'] = df['pct_change'].shift(1).rolling(window=252).std(ddof=0)\n",
    "    df['30d_std'] = df['pct_change'].shift(1).rolling(window=30).std(ddof=0)\n",
    "\n",
    "    df.to_pickle(f'{symbol}_from_{start}_yfinance_fixed_price.pickle')\n",
    "    df.loc[:,'date'] = df['date'].astype(str)\n",
    "    df.to_excel(f'{symbol}_from_{start}_yfinance_fixed_price.xlsx')\n",
    "    print(f'stock no.{count} - {symbol} downloaded')\n",
    "    count += 1"
   ]
  }
 ],
 "metadata": {
  "kernelspec": {
   "display_name": "Python 3",
   "language": "python",
   "name": "python3"
  },
  "language_info": {
   "codemirror_mode": {
    "name": "ipython",
    "version": 3
   },
   "file_extension": ".py",
   "mimetype": "text/x-python",
   "name": "python",
   "nbconvert_exporter": "python",
   "pygments_lexer": "ipython3",
   "version": "3.9.6"
  }
 },
 "nbformat": 4,
 "nbformat_minor": 2
}
